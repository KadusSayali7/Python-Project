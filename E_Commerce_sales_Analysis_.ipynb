{
  "nbformat": 4,
  "nbformat_minor": 0,
  "metadata": {
    "colab": {
      "provenance": [],
      "authorship_tag": "ABX9TyOR+ZtB6nq2VPLA7+ZNPMOx",
      "include_colab_link": true
    },
    "kernelspec": {
      "name": "python3",
      "display_name": "Python 3"
    },
    "language_info": {
      "name": "python"
    }
  },
  "cells": [
    {
      "cell_type": "markdown",
      "metadata": {
        "id": "view-in-github",
        "colab_type": "text"
      },
      "source": [
        "<a href=\"https://colab.research.google.com/github/KadusSayali7/Python-Project/blob/main/E_Commerce_sales_Analysis_.ipynb\" target=\"_parent\"><img src=\"https://colab.research.google.com/assets/colab-badge.svg\" alt=\"Open In Colab\"/></a>"
      ]
    },
    {
      "cell_type": "code",
      "execution_count": 2,
      "metadata": {
        "colab": {
          "base_uri": "https://localhost:8080/"
        },
        "id": "OsiNeky1skqe",
        "outputId": "8ab693f7-eb69-4c8c-8375-3fde4e45708f"
      },
      "outputs": [
        {
          "output_type": "stream",
          "name": "stdout",
          "text": [
            "Mounted at /content/drive\n"
          ]
        }
      ],
      "source": [
        "from google.colab import drive\n",
        "drive.mount('/content/drive')"
      ]
    },
    {
      "cell_type": "code",
      "source": [
        "import pandas as pd\n",
        "import numpy as np\n",
        "import matplotlib.pyplot as plt\n",
        "import seaborn as sns"
      ],
      "metadata": {
        "id": "BweelhCHDDU8"
      },
      "execution_count": 3,
      "outputs": []
    },
    {
      "cell_type": "code",
      "source": [
        "\n",
        "df = pd.read_csv('/content/drive/MyDrive/E-Commerce sales/SuperStoreUS.csv')\n",
        "df.head()"
      ],
      "metadata": {
        "colab": {
          "base_uri": "https://localhost:8080/",
          "height": 377
        },
        "id": "G3QELFkkA1iU",
        "outputId": "ed9d481d-d707-4d35-d093-d69940309a75"
      },
      "execution_count": 4,
      "outputs": [
        {
          "output_type": "execute_result",
          "data": {
            "text/plain": [
              "   Row ID Order Priority  Discount  Unit Price  Shipping Cost  Customer ID  \\\n",
              "0   20847           High      0.01        2.84           0.93            3   \n",
              "1   20228  Not Specified      0.02      500.98          26.00            5   \n",
              "2   21776       Critical      0.06        9.48           7.29           11   \n",
              "3   24844         Medium      0.09       78.69          19.99           14   \n",
              "4   24846         Medium      0.08        3.28           2.31           14   \n",
              "\n",
              "       Customer Name       Ship Mode Customer Segment Product Category  ...  \\\n",
              "0      Bonnie Potter     Express Air        Corporate  Office Supplies  ...   \n",
              "1     Ronnie Proctor  Delivery Truck      Home Office        Furniture  ...   \n",
              "2      Marcus Dunlap     Regular Air      Home Office        Furniture  ...   \n",
              "3  Gwendolyn F Tyson     Regular Air   Small Business        Furniture  ...   \n",
              "4  Gwendolyn F Tyson     Regular Air   Small Business  Office Supplies  ...   \n",
              "\n",
              "    Region State or Province         City  Postal Code  Order Date  \\\n",
              "0     West        Washington    Anacortes        98221  07/01/2015   \n",
              "1     West        California  San Gabriel        91776  13/06/2015   \n",
              "2     East        New Jersey      Roselle         7203  15/02/2015   \n",
              "3  Central         Minnesota   Prior Lake        55372  12/05/2015   \n",
              "4  Central         Minnesota   Prior Lake        55372  12/05/2015   \n",
              "\n",
              "    Ship Date     Profit Quantity ordered new    Sales Order ID  \n",
              "0  08/01/2015     4.5600                    4    13.01    88522  \n",
              "1  15/06/2015  4390.3665                   12  6362.85    90193  \n",
              "2  17/02/2015   -53.8096                   22   211.15    90192  \n",
              "3  14/05/2015   803.4705                   16  1164.45    86838  \n",
              "4  13/05/2015   -24.0300                    7    22.23    86838  \n",
              "\n",
              "[5 rows x 25 columns]"
            ],
            "text/html": [
              "\n",
              "  <div id=\"df-4e5c55ce-904f-472f-85c9-a072dd11c8d3\" class=\"colab-df-container\">\n",
              "    <div>\n",
              "<style scoped>\n",
              "    .dataframe tbody tr th:only-of-type {\n",
              "        vertical-align: middle;\n",
              "    }\n",
              "\n",
              "    .dataframe tbody tr th {\n",
              "        vertical-align: top;\n",
              "    }\n",
              "\n",
              "    .dataframe thead th {\n",
              "        text-align: right;\n",
              "    }\n",
              "</style>\n",
              "<table border=\"1\" class=\"dataframe\">\n",
              "  <thead>\n",
              "    <tr style=\"text-align: right;\">\n",
              "      <th></th>\n",
              "      <th>Row ID</th>\n",
              "      <th>Order Priority</th>\n",
              "      <th>Discount</th>\n",
              "      <th>Unit Price</th>\n",
              "      <th>Shipping Cost</th>\n",
              "      <th>Customer ID</th>\n",
              "      <th>Customer Name</th>\n",
              "      <th>Ship Mode</th>\n",
              "      <th>Customer Segment</th>\n",
              "      <th>Product Category</th>\n",
              "      <th>...</th>\n",
              "      <th>Region</th>\n",
              "      <th>State or Province</th>\n",
              "      <th>City</th>\n",
              "      <th>Postal Code</th>\n",
              "      <th>Order Date</th>\n",
              "      <th>Ship Date</th>\n",
              "      <th>Profit</th>\n",
              "      <th>Quantity ordered new</th>\n",
              "      <th>Sales</th>\n",
              "      <th>Order ID</th>\n",
              "    </tr>\n",
              "  </thead>\n",
              "  <tbody>\n",
              "    <tr>\n",
              "      <th>0</th>\n",
              "      <td>20847</td>\n",
              "      <td>High</td>\n",
              "      <td>0.01</td>\n",
              "      <td>2.84</td>\n",
              "      <td>0.93</td>\n",
              "      <td>3</td>\n",
              "      <td>Bonnie Potter</td>\n",
              "      <td>Express Air</td>\n",
              "      <td>Corporate</td>\n",
              "      <td>Office Supplies</td>\n",
              "      <td>...</td>\n",
              "      <td>West</td>\n",
              "      <td>Washington</td>\n",
              "      <td>Anacortes</td>\n",
              "      <td>98221</td>\n",
              "      <td>07/01/2015</td>\n",
              "      <td>08/01/2015</td>\n",
              "      <td>4.5600</td>\n",
              "      <td>4</td>\n",
              "      <td>13.01</td>\n",
              "      <td>88522</td>\n",
              "    </tr>\n",
              "    <tr>\n",
              "      <th>1</th>\n",
              "      <td>20228</td>\n",
              "      <td>Not Specified</td>\n",
              "      <td>0.02</td>\n",
              "      <td>500.98</td>\n",
              "      <td>26.00</td>\n",
              "      <td>5</td>\n",
              "      <td>Ronnie Proctor</td>\n",
              "      <td>Delivery Truck</td>\n",
              "      <td>Home Office</td>\n",
              "      <td>Furniture</td>\n",
              "      <td>...</td>\n",
              "      <td>West</td>\n",
              "      <td>California</td>\n",
              "      <td>San Gabriel</td>\n",
              "      <td>91776</td>\n",
              "      <td>13/06/2015</td>\n",
              "      <td>15/06/2015</td>\n",
              "      <td>4390.3665</td>\n",
              "      <td>12</td>\n",
              "      <td>6362.85</td>\n",
              "      <td>90193</td>\n",
              "    </tr>\n",
              "    <tr>\n",
              "      <th>2</th>\n",
              "      <td>21776</td>\n",
              "      <td>Critical</td>\n",
              "      <td>0.06</td>\n",
              "      <td>9.48</td>\n",
              "      <td>7.29</td>\n",
              "      <td>11</td>\n",
              "      <td>Marcus Dunlap</td>\n",
              "      <td>Regular Air</td>\n",
              "      <td>Home Office</td>\n",
              "      <td>Furniture</td>\n",
              "      <td>...</td>\n",
              "      <td>East</td>\n",
              "      <td>New Jersey</td>\n",
              "      <td>Roselle</td>\n",
              "      <td>7203</td>\n",
              "      <td>15/02/2015</td>\n",
              "      <td>17/02/2015</td>\n",
              "      <td>-53.8096</td>\n",
              "      <td>22</td>\n",
              "      <td>211.15</td>\n",
              "      <td>90192</td>\n",
              "    </tr>\n",
              "    <tr>\n",
              "      <th>3</th>\n",
              "      <td>24844</td>\n",
              "      <td>Medium</td>\n",
              "      <td>0.09</td>\n",
              "      <td>78.69</td>\n",
              "      <td>19.99</td>\n",
              "      <td>14</td>\n",
              "      <td>Gwendolyn F Tyson</td>\n",
              "      <td>Regular Air</td>\n",
              "      <td>Small Business</td>\n",
              "      <td>Furniture</td>\n",
              "      <td>...</td>\n",
              "      <td>Central</td>\n",
              "      <td>Minnesota</td>\n",
              "      <td>Prior Lake</td>\n",
              "      <td>55372</td>\n",
              "      <td>12/05/2015</td>\n",
              "      <td>14/05/2015</td>\n",
              "      <td>803.4705</td>\n",
              "      <td>16</td>\n",
              "      <td>1164.45</td>\n",
              "      <td>86838</td>\n",
              "    </tr>\n",
              "    <tr>\n",
              "      <th>4</th>\n",
              "      <td>24846</td>\n",
              "      <td>Medium</td>\n",
              "      <td>0.08</td>\n",
              "      <td>3.28</td>\n",
              "      <td>2.31</td>\n",
              "      <td>14</td>\n",
              "      <td>Gwendolyn F Tyson</td>\n",
              "      <td>Regular Air</td>\n",
              "      <td>Small Business</td>\n",
              "      <td>Office Supplies</td>\n",
              "      <td>...</td>\n",
              "      <td>Central</td>\n",
              "      <td>Minnesota</td>\n",
              "      <td>Prior Lake</td>\n",
              "      <td>55372</td>\n",
              "      <td>12/05/2015</td>\n",
              "      <td>13/05/2015</td>\n",
              "      <td>-24.0300</td>\n",
              "      <td>7</td>\n",
              "      <td>22.23</td>\n",
              "      <td>86838</td>\n",
              "    </tr>\n",
              "  </tbody>\n",
              "</table>\n",
              "<p>5 rows × 25 columns</p>\n",
              "</div>\n",
              "    <div class=\"colab-df-buttons\">\n",
              "\n",
              "  <div class=\"colab-df-container\">\n",
              "    <button class=\"colab-df-convert\" onclick=\"convertToInteractive('df-4e5c55ce-904f-472f-85c9-a072dd11c8d3')\"\n",
              "            title=\"Convert this dataframe to an interactive table.\"\n",
              "            style=\"display:none;\">\n",
              "\n",
              "  <svg xmlns=\"http://www.w3.org/2000/svg\" height=\"24px\" viewBox=\"0 -960 960 960\">\n",
              "    <path d=\"M120-120v-720h720v720H120Zm60-500h600v-160H180v160Zm220 220h160v-160H400v160Zm0 220h160v-160H400v160ZM180-400h160v-160H180v160Zm440 0h160v-160H620v160ZM180-180h160v-160H180v160Zm440 0h160v-160H620v160Z\"/>\n",
              "  </svg>\n",
              "    </button>\n",
              "\n",
              "  <style>\n",
              "    .colab-df-container {\n",
              "      display:flex;\n",
              "      gap: 12px;\n",
              "    }\n",
              "\n",
              "    .colab-df-convert {\n",
              "      background-color: #E8F0FE;\n",
              "      border: none;\n",
              "      border-radius: 50%;\n",
              "      cursor: pointer;\n",
              "      display: none;\n",
              "      fill: #1967D2;\n",
              "      height: 32px;\n",
              "      padding: 0 0 0 0;\n",
              "      width: 32px;\n",
              "    }\n",
              "\n",
              "    .colab-df-convert:hover {\n",
              "      background-color: #E2EBFA;\n",
              "      box-shadow: 0px 1px 2px rgba(60, 64, 67, 0.3), 0px 1px 3px 1px rgba(60, 64, 67, 0.15);\n",
              "      fill: #174EA6;\n",
              "    }\n",
              "\n",
              "    .colab-df-buttons div {\n",
              "      margin-bottom: 4px;\n",
              "    }\n",
              "\n",
              "    [theme=dark] .colab-df-convert {\n",
              "      background-color: #3B4455;\n",
              "      fill: #D2E3FC;\n",
              "    }\n",
              "\n",
              "    [theme=dark] .colab-df-convert:hover {\n",
              "      background-color: #434B5C;\n",
              "      box-shadow: 0px 1px 3px 1px rgba(0, 0, 0, 0.15);\n",
              "      filter: drop-shadow(0px 1px 2px rgba(0, 0, 0, 0.3));\n",
              "      fill: #FFFFFF;\n",
              "    }\n",
              "  </style>\n",
              "\n",
              "    <script>\n",
              "      const buttonEl =\n",
              "        document.querySelector('#df-4e5c55ce-904f-472f-85c9-a072dd11c8d3 button.colab-df-convert');\n",
              "      buttonEl.style.display =\n",
              "        google.colab.kernel.accessAllowed ? 'block' : 'none';\n",
              "\n",
              "      async function convertToInteractive(key) {\n",
              "        const element = document.querySelector('#df-4e5c55ce-904f-472f-85c9-a072dd11c8d3');\n",
              "        const dataTable =\n",
              "          await google.colab.kernel.invokeFunction('convertToInteractive',\n",
              "                                                    [key], {});\n",
              "        if (!dataTable) return;\n",
              "\n",
              "        const docLinkHtml = 'Like what you see? Visit the ' +\n",
              "          '<a target=\"_blank\" href=https://colab.research.google.com/notebooks/data_table.ipynb>data table notebook</a>'\n",
              "          + ' to learn more about interactive tables.';\n",
              "        element.innerHTML = '';\n",
              "        dataTable['output_type'] = 'display_data';\n",
              "        await google.colab.output.renderOutput(dataTable, element);\n",
              "        const docLink = document.createElement('div');\n",
              "        docLink.innerHTML = docLinkHtml;\n",
              "        element.appendChild(docLink);\n",
              "      }\n",
              "    </script>\n",
              "  </div>\n",
              "\n",
              "\n",
              "<div id=\"df-e9a80910-8911-421b-908a-e7bf96141a84\">\n",
              "  <button class=\"colab-df-quickchart\" onclick=\"quickchart('df-e9a80910-8911-421b-908a-e7bf96141a84')\"\n",
              "            title=\"Suggest charts\"\n",
              "            style=\"display:none;\">\n",
              "\n",
              "<svg xmlns=\"http://www.w3.org/2000/svg\" height=\"24px\"viewBox=\"0 0 24 24\"\n",
              "     width=\"24px\">\n",
              "    <g>\n",
              "        <path d=\"M19 3H5c-1.1 0-2 .9-2 2v14c0 1.1.9 2 2 2h14c1.1 0 2-.9 2-2V5c0-1.1-.9-2-2-2zM9 17H7v-7h2v7zm4 0h-2V7h2v10zm4 0h-2v-4h2v4z\"/>\n",
              "    </g>\n",
              "</svg>\n",
              "  </button>\n",
              "\n",
              "<style>\n",
              "  .colab-df-quickchart {\n",
              "      --bg-color: #E8F0FE;\n",
              "      --fill-color: #1967D2;\n",
              "      --hover-bg-color: #E2EBFA;\n",
              "      --hover-fill-color: #174EA6;\n",
              "      --disabled-fill-color: #AAA;\n",
              "      --disabled-bg-color: #DDD;\n",
              "  }\n",
              "\n",
              "  [theme=dark] .colab-df-quickchart {\n",
              "      --bg-color: #3B4455;\n",
              "      --fill-color: #D2E3FC;\n",
              "      --hover-bg-color: #434B5C;\n",
              "      --hover-fill-color: #FFFFFF;\n",
              "      --disabled-bg-color: #3B4455;\n",
              "      --disabled-fill-color: #666;\n",
              "  }\n",
              "\n",
              "  .colab-df-quickchart {\n",
              "    background-color: var(--bg-color);\n",
              "    border: none;\n",
              "    border-radius: 50%;\n",
              "    cursor: pointer;\n",
              "    display: none;\n",
              "    fill: var(--fill-color);\n",
              "    height: 32px;\n",
              "    padding: 0;\n",
              "    width: 32px;\n",
              "  }\n",
              "\n",
              "  .colab-df-quickchart:hover {\n",
              "    background-color: var(--hover-bg-color);\n",
              "    box-shadow: 0 1px 2px rgba(60, 64, 67, 0.3), 0 1px 3px 1px rgba(60, 64, 67, 0.15);\n",
              "    fill: var(--button-hover-fill-color);\n",
              "  }\n",
              "\n",
              "  .colab-df-quickchart-complete:disabled,\n",
              "  .colab-df-quickchart-complete:disabled:hover {\n",
              "    background-color: var(--disabled-bg-color);\n",
              "    fill: var(--disabled-fill-color);\n",
              "    box-shadow: none;\n",
              "  }\n",
              "\n",
              "  .colab-df-spinner {\n",
              "    border: 2px solid var(--fill-color);\n",
              "    border-color: transparent;\n",
              "    border-bottom-color: var(--fill-color);\n",
              "    animation:\n",
              "      spin 1s steps(1) infinite;\n",
              "  }\n",
              "\n",
              "  @keyframes spin {\n",
              "    0% {\n",
              "      border-color: transparent;\n",
              "      border-bottom-color: var(--fill-color);\n",
              "      border-left-color: var(--fill-color);\n",
              "    }\n",
              "    20% {\n",
              "      border-color: transparent;\n",
              "      border-left-color: var(--fill-color);\n",
              "      border-top-color: var(--fill-color);\n",
              "    }\n",
              "    30% {\n",
              "      border-color: transparent;\n",
              "      border-left-color: var(--fill-color);\n",
              "      border-top-color: var(--fill-color);\n",
              "      border-right-color: var(--fill-color);\n",
              "    }\n",
              "    40% {\n",
              "      border-color: transparent;\n",
              "      border-right-color: var(--fill-color);\n",
              "      border-top-color: var(--fill-color);\n",
              "    }\n",
              "    60% {\n",
              "      border-color: transparent;\n",
              "      border-right-color: var(--fill-color);\n",
              "    }\n",
              "    80% {\n",
              "      border-color: transparent;\n",
              "      border-right-color: var(--fill-color);\n",
              "      border-bottom-color: var(--fill-color);\n",
              "    }\n",
              "    90% {\n",
              "      border-color: transparent;\n",
              "      border-bottom-color: var(--fill-color);\n",
              "    }\n",
              "  }\n",
              "</style>\n",
              "\n",
              "  <script>\n",
              "    async function quickchart(key) {\n",
              "      const quickchartButtonEl =\n",
              "        document.querySelector('#' + key + ' button');\n",
              "      quickchartButtonEl.disabled = true;  // To prevent multiple clicks.\n",
              "      quickchartButtonEl.classList.add('colab-df-spinner');\n",
              "      try {\n",
              "        const charts = await google.colab.kernel.invokeFunction(\n",
              "            'suggestCharts', [key], {});\n",
              "      } catch (error) {\n",
              "        console.error('Error during call to suggestCharts:', error);\n",
              "      }\n",
              "      quickchartButtonEl.classList.remove('colab-df-spinner');\n",
              "      quickchartButtonEl.classList.add('colab-df-quickchart-complete');\n",
              "    }\n",
              "    (() => {\n",
              "      let quickchartButtonEl =\n",
              "        document.querySelector('#df-e9a80910-8911-421b-908a-e7bf96141a84 button');\n",
              "      quickchartButtonEl.style.display =\n",
              "        google.colab.kernel.accessAllowed ? 'block' : 'none';\n",
              "    })();\n",
              "  </script>\n",
              "</div>\n",
              "\n",
              "    </div>\n",
              "  </div>\n"
            ],
            "application/vnd.google.colaboratory.intrinsic+json": {
              "type": "dataframe",
              "variable_name": "df"
            }
          },
          "metadata": {},
          "execution_count": 4
        }
      ]
    },
    {
      "cell_type": "code",
      "source": [
        "df.info()"
      ],
      "metadata": {
        "colab": {
          "base_uri": "https://localhost:8080/"
        },
        "id": "x2dL5CgbEK-r",
        "outputId": "c607fce6-9612-40df-bade-ff13810fa8e3"
      },
      "execution_count": null,
      "outputs": [
        {
          "output_type": "stream",
          "name": "stdout",
          "text": [
            "<class 'pandas.core.frame.DataFrame'>\n",
            "RangeIndex: 1952 entries, 0 to 1951\n",
            "Data columns (total 25 columns):\n",
            " #   Column                Non-Null Count  Dtype  \n",
            "---  ------                --------------  -----  \n",
            " 0   Row ID                1952 non-null   int64  \n",
            " 1   Order Priority        1952 non-null   object \n",
            " 2   Discount              1952 non-null   float64\n",
            " 3   Unit Price            1952 non-null   float64\n",
            " 4   Shipping Cost         1952 non-null   float64\n",
            " 5   Customer ID           1952 non-null   int64  \n",
            " 6   Customer Name         1952 non-null   object \n",
            " 7   Ship Mode             1952 non-null   object \n",
            " 8   Customer Segment      1952 non-null   object \n",
            " 9   Product Category      1952 non-null   object \n",
            " 10  Product Sub-Category  1952 non-null   object \n",
            " 11  Product Container     1952 non-null   object \n",
            " 12  Product Name          1952 non-null   object \n",
            " 13  Product Base Margin   1936 non-null   float64\n",
            " 14  Country               1952 non-null   object \n",
            " 15  Region                1952 non-null   object \n",
            " 16  State or Province     1952 non-null   object \n",
            " 17  City                  1952 non-null   object \n",
            " 18  Postal Code           1952 non-null   int64  \n",
            " 19  Order Date            1952 non-null   object \n",
            " 20  Ship Date             1952 non-null   object \n",
            " 21  Profit                1952 non-null   float64\n",
            " 22  Quantity ordered new  1952 non-null   int64  \n",
            " 23  Sales                 1952 non-null   float64\n",
            " 24  Order ID              1952 non-null   int64  \n",
            "dtypes: float64(6), int64(5), object(14)\n",
            "memory usage: 381.4+ KB\n"
          ]
        }
      ]
    },
    {
      "cell_type": "code",
      "source": [
        "df.isnull().sum()"
      ],
      "metadata": {
        "colab": {
          "base_uri": "https://localhost:8080/"
        },
        "id": "_MxG7d5dELbT",
        "outputId": "993b9d4d-af3c-40a2-f081-29f80c3ae78f"
      },
      "execution_count": null,
      "outputs": [
        {
          "output_type": "execute_result",
          "data": {
            "text/plain": [
              "Row ID                  0\n",
              "Order Priority          0\n",
              "Discount                0\n",
              "Unit Price              0\n",
              "Shipping Cost           0\n",
              "Customer ID             0\n",
              "Customer Name           0\n",
              "Ship Mode               0\n",
              "Customer Segment        0\n",
              "Product Category        0\n",
              "Product Sub-Category    0\n",
              "Product Container       0\n",
              "Product Name            0\n",
              "Product Base Margin     0\n",
              "Country                 0\n",
              "Region                  0\n",
              "State or Province       0\n",
              "City                    0\n",
              "Postal Code             0\n",
              "Order Date              0\n",
              "Ship Date               0\n",
              "Profit                  0\n",
              "Quantity ordered new    0\n",
              "Sales                   0\n",
              "Order ID                0\n",
              "dtype: int64"
            ]
          },
          "metadata": {},
          "execution_count": 11
        }
      ]
    },
    {
      "cell_type": "markdown",
      "source": [
        "#Data cleaning"
      ],
      "metadata": {
        "id": "fJZhSvykFrY7"
      }
    },
    {
      "cell_type": "code",
      "source": [
        "df['Product Base Margin'].fillna(df['Product Base Margin'].mean(),inplace=True)"
      ],
      "metadata": {
        "id": "mh3RANwHEbjf"
      },
      "execution_count": 5,
      "outputs": []
    },
    {
      "cell_type": "markdown",
      "source": [
        "#Count of order priorities"
      ],
      "metadata": {
        "id": "39OWmBETF73R"
      }
    },
    {
      "cell_type": "code",
      "source": [
        "df['Order Priority'].value_counts()"
      ],
      "metadata": {
        "colab": {
          "base_uri": "https://localhost:8080/"
        },
        "id": "FIUhZTFzFVxm",
        "outputId": "4604acce-56aa-419a-9714-7d13e7596628"
      },
      "execution_count": 6,
      "outputs": [
        {
          "output_type": "execute_result",
          "data": {
            "text/plain": [
              "Order Priority\n",
              "Low              398\n",
              "Not Specified    396\n",
              "High             391\n",
              "Critical         390\n",
              "Medium           376\n",
              "Critical           1\n",
              "Name: count, dtype: int64"
            ]
          },
          "metadata": {},
          "execution_count": 6
        }
      ]
    },
    {
      "cell_type": "code",
      "source": [
        "df['Order Priority'].unique()"
      ],
      "metadata": {
        "colab": {
          "base_uri": "https://localhost:8080/"
        },
        "id": "H7lvRjHGFNfO",
        "outputId": "8e533b4c-a22a-40c9-c248-4535354ae0e0"
      },
      "execution_count": 8,
      "outputs": [
        {
          "output_type": "execute_result",
          "data": {
            "text/plain": [
              "array(['High', 'Not Specified', 'Critical', 'Medium', 'Low'], dtype=object)"
            ]
          },
          "metadata": {},
          "execution_count": 8
        }
      ]
    },
    {
      "cell_type": "code",
      "source": [
        "df['Order Priority']=df['Order Priority'].replace('Critical ','Critical')"
      ],
      "metadata": {
        "id": "e9X4YB9iGUjy"
      },
      "execution_count": 7,
      "outputs": []
    },
    {
      "cell_type": "code",
      "source": [
        "sns.countplot(x='Order Priority',data=df,width=0.4)\n",
        "plt.show()"
      ],
      "metadata": {
        "colab": {
          "base_uri": "https://localhost:8080/",
          "height": 449
        },
        "id": "koVLFf64GvmA",
        "outputId": "aa4b1877-21f4-4f02-9a2a-c8ee696b1638"
      },
      "execution_count": 9,
      "outputs": [
        {
          "output_type": "display_data",
          "data": {
            "text/plain": [
              "<Figure size 640x480 with 1 Axes>"
            ],
            "image/png": "[encoded data removed]"
          },
          "metadata": {}
        }
      ]
    },
    {
      "cell_type": "code",
      "source": [
        "df.info()"
      ],
      "metadata": {
        "colab": {
          "base_uri": "https://localhost:8080/"
        },
        "id": "OM7RRT5_Htum",
        "outputId": "14b76007-d750-4760-de05-9b2b32a3a530"
      },
      "execution_count": 10,
      "outputs": [
        {
          "output_type": "stream",
          "name": "stdout",
          "text": [
            "<class 'pandas.core.frame.DataFrame'>\n",
            "RangeIndex: 1952 entries, 0 to 1951\n",
            "Data columns (total 25 columns):\n",
            " #   Column                Non-Null Count  Dtype  \n",
            "---  ------                --------------  -----  \n",
            " 0   Row ID                1952 non-null   int64  \n",
            " 1   Order Priority        1952 non-null   object \n",
            " 2   Discount              1952 non-null   float64\n",
            " 3   Unit Price            1952 non-null   float64\n",
            " 4   Shipping Cost         1952 non-null   float64\n",
            " 5   Customer ID           1952 non-null   int64  \n",
            " 6   Customer Name         1952 non-null   object \n",
            " 7   Ship Mode             1952 non-null   object \n",
            " 8   Customer Segment      1952 non-null   object \n",
            " 9   Product Category      1952 non-null   object \n",
            " 10  Product Sub-Category  1952 non-null   object \n",
            " 11  Product Container     1952 non-null   object \n",
            " 12  Product Name          1952 non-null   object \n",
            " 13  Product Base Margin   1952 non-null   float64\n",
            " 14  Country               1952 non-null   object \n",
            " 15  Region                1952 non-null   object \n",
            " 16  State or Province     1952 non-null   object \n",
            " 17  City                  1952 non-null   object \n",
            " 18  Postal Code           1952 non-null   int64  \n",
            " 19  Order Date            1952 non-null   object \n",
            " 20  Ship Date             1952 non-null   object \n",
            " 21  Profit                1952 non-null   float64\n",
            " 22  Quantity ordered new  1952 non-null   int64  \n",
            " 23  Sales                 1952 non-null   float64\n",
            " 24  Order ID              1952 non-null   int64  \n",
            "dtypes: float64(6), int64(5), object(14)\n",
            "memory usage: 381.4+ KB\n"
          ]
        }
      ]
    },
    {
      "cell_type": "markdown",
      "source": [
        "#Count of Ship Mode"
      ],
      "metadata": {
        "id": "Io27QiVqIQcS"
      }
    },
    {
      "cell_type": "code",
      "source": [
        "df['Ship Mode'].value_counts()"
      ],
      "metadata": {
        "colab": {
          "base_uri": "https://localhost:8080/"
        },
        "id": "KPMfI-vwHt0Q",
        "outputId": "c99fc73e-715d-43fa-a805-581cc364d1f7"
      },
      "execution_count": 11,
      "outputs": [
        {
          "output_type": "execute_result",
          "data": {
            "text/plain": [
              "Ship Mode\n",
              "Regular Air       1437\n",
              "Delivery Truck     275\n",
              "Express Air        240\n",
              "Name: count, dtype: int64"
            ]
          },
          "metadata": {},
          "execution_count": 11
        }
      ]
    },
    {
      "cell_type": "code",
      "source": [
        "sns.countplot(x='Ship Mode',data=df,width=0.4)\n",
        "plt.show()"
      ],
      "metadata": {
        "colab": {
          "base_uri": "https://localhost:8080/",
          "height": 449
        },
        "id": "to9dmdLIHt3Y",
        "outputId": "5eb64d3c-3e2e-4609-f1e5-854fd2a4f2ff"
      },
      "execution_count": 12,
      "outputs": [
        {
          "output_type": "display_data",
          "data": {
            "text/plain": [
              "<Figure size 640x480 with 1 Axes>"
            ],
            "image/png": "[encoded data removed]"
          },
          "metadata": {}
        }
      ]
    },
    {
      "cell_type": "code",
      "source": [
        "x=df['Ship Mode'].value_counts().index\n",
        "y=df['Ship Mode'].value_counts().values"
      ],
      "metadata": {
        "id": "GZqExEIDIqsu"
      },
      "execution_count": 13,
      "outputs": []
    },
    {
      "cell_type": "code",
      "source": [
        "plt.figure(figsize=(3,4))\n",
        "plt.pie(y,labels=x,startangle=60)\n",
        "plt.show()"
      ],
      "metadata": {
        "colab": {
          "base_uri": "https://localhost:8080/",
          "height": 269
        },
        "id": "Woe_m54MIqwP",
        "outputId": "556bf9a6-b5db-478a-853b-24dff2c10230"
      },
      "execution_count": 14,
      "outputs": [
        {
          "output_type": "display_data",
          "data": {
            "text/plain": [
              "<Figure size 300x400 with 1 Axes>"
            ],
            "image/png": "[encoded data removed]"
          },
          "metadata": {}
        }
      ]
    },
    {
      "cell_type": "code",
      "source": [
        "sns.countplot(x='Ship Mode',data=df,hue='Product Category')\n",
        "plt.show()"
      ],
      "metadata": {
        "colab": {
          "base_uri": "https://localhost:8080/",
          "height": 449
        },
        "id": "3M5WsUHTKT0p",
        "outputId": "0822fe45-2aa6-47d7-c217-a9066f50f437"
      },
      "execution_count": 15,
      "outputs": [
        {
          "output_type": "display_data",
          "data": {
            "text/plain": [
              "<Figure size 640x480 with 1 Axes>"
            ],
            "image/png": "[encoded data removed]"
          },
          "metadata": {}
        }
      ]
    },
    {
      "cell_type": "markdown",
      "source": [
        "#Countplot foe Customer Segment"
      ],
      "metadata": {
        "id": "Q65W72l_K3L8"
      }
    },
    {
      "cell_type": "code",
      "source": [
        "sns.countplot(x='Customer Segment',data=df)\n",
        "plt.show()"
      ],
      "metadata": {
        "colab": {
          "base_uri": "https://localhost:8080/",
          "height": 449
        },
        "id": "QKWTI2S-KUM8",
        "outputId": "5f482a01-48da-49bc-f299-ffd239836e95"
      },
      "execution_count": 16,
      "outputs": [
        {
          "output_type": "display_data",
          "data": {
            "text/plain": [
              "<Figure size 640x480 with 1 Axes>"
            ],
            "image/png": "[encoded data removed]"
          },
          "metadata": {}
        }
      ]
    },
    {
      "cell_type": "code",
      "source": [
        "sns.countplot(x='Product Category',data=df[df['Product Category']=='Office Supplies'],hue='Product Sub-Category')\n",
        "plt.show()"
      ],
      "metadata": {
        "colab": {
          "base_uri": "https://localhost:8080/",
          "height": 449
        },
        "id": "2B4iwj1eLKvz",
        "outputId": "ff6def60-c368-4b39-9dfd-02d75ad9ae57"
      },
      "execution_count": 17,
      "outputs": [
        {
          "output_type": "display_data",
          "data": {
            "text/plain": [
              "<Figure size 640x480 with 1 Axes>"
            ],
            "image/png": "[encoded data removed]"
          },
          "metadata": {}
        }
      ]
    },
    {
      "cell_type": "code",
      "source": [],
      "metadata": {
        "id": "CsOF3poqLK3s"
      },
      "execution_count": null,
      "outputs": []
    },
    {
      "cell_type": "code",
      "source": [
        "df['Order Date']=pd.to_datetime(df['Order Date'],format='%d/%m/%Y')"
      ],
      "metadata": {
        "id": "SR2ld_2SNEA8"
      },
      "execution_count": 18,
      "outputs": []
    },
    {
      "cell_type": "code",
      "source": [
        "df['Ship Date']=pd.to_datetime(df['Ship Date'],format='%d/%m/%Y')"
      ],
      "metadata": {
        "id": "SdzkD4DRRLoh"
      },
      "execution_count": 19,
      "outputs": []
    },
    {
      "cell_type": "code",
      "source": [
        "df.info()"
      ],
      "metadata": {
        "colab": {
          "base_uri": "https://localhost:8080/"
        },
        "id": "NcCjR6D8Mb5C",
        "outputId": "837d8184-8f5a-4b40-f22d-b7e4ef1c3485"
      },
      "execution_count": null,
      "outputs": [
        {
          "output_type": "stream",
          "name": "stdout",
          "text": [
            "<class 'pandas.core.frame.DataFrame'>\n",
            "RangeIndex: 1952 entries, 0 to 1951\n",
            "Data columns (total 25 columns):\n",
            " #   Column                Non-Null Count  Dtype         \n",
            "---  ------                --------------  -----         \n",
            " 0   Row ID                1952 non-null   int64         \n",
            " 1   Order Priority        1952 non-null   object        \n",
            " 2   Discount              1952 non-null   float64       \n",
            " 3   Unit Price            1952 non-null   float64       \n",
            " 4   Shipping Cost         1952 non-null   float64       \n",
            " 5   Customer ID           1952 non-null   int64         \n",
            " 6   Customer Name         1952 non-null   object        \n",
            " 7   Ship Mode             1952 non-null   object        \n",
            " 8   Customer Segment      1952 non-null   object        \n",
            " 9   Product Category      1952 non-null   object        \n",
            " 10  Product Sub-Category  1952 non-null   object        \n",
            " 11  Product Container     1952 non-null   object        \n",
            " 12  Product Name          1952 non-null   object        \n",
            " 13  Product Base Margin   1952 non-null   float64       \n",
            " 14  Country               1952 non-null   object        \n",
            " 15  Region                1952 non-null   object        \n",
            " 16  State or Province     1952 non-null   object        \n",
            " 17  City                  1952 non-null   object        \n",
            " 18  Postal Code           1952 non-null   int64         \n",
            " 19  Order Date            1952 non-null   datetime64[ns]\n",
            " 20  Ship Date             1952 non-null   datetime64[ns]\n",
            " 21  Profit                1952 non-null   float64       \n",
            " 22  Quantity ordered new  1952 non-null   int64         \n",
            " 23  Sales                 1952 non-null   float64       \n",
            " 24  Order ID              1952 non-null   int64         \n",
            "dtypes: datetime64[ns](2), float64(6), int64(5), object(12)\n",
            "memory usage: 381.4+ KB\n"
          ]
        }
      ]
    },
    {
      "cell_type": "code",
      "source": [
        "df.head()"
      ],
      "metadata": {
        "colab": {
          "base_uri": "https://localhost:8080/",
          "height": 377
        },
        "id": "m3L0sMLnOlpr",
        "outputId": "f4127107-bf80-441f-88e4-65362039ce5d"
      },
      "execution_count": null,
      "outputs": [
        {
          "output_type": "execute_result",
          "data": {
            "text/plain": [
              "   Row ID Order Priority  Discount  Unit Price  Shipping Cost  Customer ID  \\\n",
              "0   20847           High      0.01        2.84           0.93            3   \n",
              "1   20228  Not Specified      0.02      500.98          26.00            5   \n",
              "2   21776       Critical      0.06        9.48           7.29           11   \n",
              "3   24844         Medium      0.09       78.69          19.99           14   \n",
              "4   24846         Medium      0.08        3.28           2.31           14   \n",
              "\n",
              "       Customer Name       Ship Mode Customer Segment Product Category  ...  \\\n",
              "0      Bonnie Potter     Express Air        Corporate  Office Supplies  ...   \n",
              "1     Ronnie Proctor  Delivery Truck      Home Office        Furniture  ...   \n",
              "2      Marcus Dunlap     Regular Air      Home Office        Furniture  ...   \n",
              "3  Gwendolyn F Tyson     Regular Air   Small Business        Furniture  ...   \n",
              "4  Gwendolyn F Tyson     Regular Air   Small Business  Office Supplies  ...   \n",
              "\n",
              "    Region State or Province         City  Postal Code  Order Date  \\\n",
              "0     West        Washington    Anacortes        98221  07/01/2015   \n",
              "1     West        California  San Gabriel        91776  13/06/2015   \n",
              "2     East        New Jersey      Roselle         7203  15/02/2015   \n",
              "3  Central         Minnesota   Prior Lake        55372  12/05/2015   \n",
              "4  Central         Minnesota   Prior Lake        55372  12/05/2015   \n",
              "\n",
              "    Ship Date     Profit Quantity ordered new    Sales Order ID  \n",
              "0  08/01/2015     4.5600                    4    13.01    88522  \n",
              "1  15/06/2015  4390.3665                   12  6362.85    90193  \n",
              "2  17/02/2015   -53.8096                   22   211.15    90192  \n",
              "3  14/05/2015   803.4705                   16  1164.45    86838  \n",
              "4  13/05/2015   -24.0300                    7    22.23    86838  \n",
              "\n",
              "[5 rows x 25 columns]"
            ],
            "text/html": [
              "\n",
              "  <div id=\"df-6104a47b-9e77-4836-bdf6-d4cd273c2317\" class=\"colab-df-container\">\n",
              "    <div>\n",
              "<style scoped>\n",
              "    .dataframe tbody tr th:only-of-type {\n",
              "        vertical-align: middle;\n",
              "    }\n",
              "\n",
              "    .dataframe tbody tr th {\n",
              "        vertical-align: top;\n",
              "    }\n",
              "\n",
              "    .dataframe thead th {\n",
              "        text-align: right;\n",
              "    }\n",
              "</style>\n",
              "<table border=\"1\" class=\"dataframe\">\n",
              "  <thead>\n",
              "    <tr style=\"text-align: right;\">\n",
              "      <th></th>\n",
              "      <th>Row ID</th>\n",
              "      <th>Order Priority</th>\n",
              "      <th>Discount</th>\n",
              "      <th>Unit Price</th>\n",
              "      <th>Shipping Cost</th>\n",
              "      <th>Customer ID</th>\n",
              "      <th>Customer Name</th>\n",
              "      <th>Ship Mode</th>\n",
              "      <th>Customer Segment</th>\n",
              "      <th>Product Category</th>\n",
              "      <th>...</th>\n",
              "      <th>Region</th>\n",
              "      <th>State or Province</th>\n",
              "      <th>City</th>\n",
              "      <th>Postal Code</th>\n",
              "      <th>Order Date</th>\n",
              "      <th>Ship Date</th>\n",
              "      <th>Profit</th>\n",
              "      <th>Quantity ordered new</th>\n",
              "      <th>Sales</th>\n",
              "      <th>Order ID</th>\n",
              "    </tr>\n",
              "  </thead>\n",
              "  <tbody>\n",
              "    <tr>\n",
              "      <th>0</th>\n",
              "      <td>20847</td>\n",
              "      <td>High</td>\n",
              "      <td>0.01</td>\n",
              "      <td>2.84</td>\n",
              "      <td>0.93</td>\n",
              "      <td>3</td>\n",
              "      <td>Bonnie Potter</td>\n",
              "      <td>Express Air</td>\n",
              "      <td>Corporate</td>\n",
              "      <td>Office Supplies</td>\n",
              "      <td>...</td>\n",
              "      <td>West</td>\n",
              "      <td>Washington</td>\n",
              "      <td>Anacortes</td>\n",
              "      <td>98221</td>\n",
              "      <td>07/01/2015</td>\n",
              "      <td>08/01/2015</td>\n",
              "      <td>4.5600</td>\n",
              "      <td>4</td>\n",
              "      <td>13.01</td>\n",
              "      <td>88522</td>\n",
              "    </tr>\n",
              "    <tr>\n",
              "      <th>1</th>\n",
              "      <td>20228</td>\n",
              "      <td>Not Specified</td>\n",
              "      <td>0.02</td>\n",
              "      <td>500.98</td>\n",
              "      <td>26.00</td>\n",
              "      <td>5</td>\n",
              "      <td>Ronnie Proctor</td>\n",
              "      <td>Delivery Truck</td>\n",
              "      <td>Home Office</td>\n",
              "      <td>Furniture</td>\n",
              "      <td>...</td>\n",
              "      <td>West</td>\n",
              "      <td>California</td>\n",
              "      <td>San Gabriel</td>\n",
              "      <td>91776</td>\n",
              "      <td>13/06/2015</td>\n",
              "      <td>15/06/2015</td>\n",
              "      <td>4390.3665</td>\n",
              "      <td>12</td>\n",
              "      <td>6362.85</td>\n",
              "      <td>90193</td>\n",
              "    </tr>\n",
              "    <tr>\n",
              "      <th>2</th>\n",
              "      <td>21776</td>\n",
              "      <td>Critical</td>\n",
              "      <td>0.06</td>\n",
              "      <td>9.48</td>\n",
              "      <td>7.29</td>\n",
              "      <td>11</td>\n",
              "      <td>Marcus Dunlap</td>\n",
              "      <td>Regular Air</td>\n",
              "      <td>Home Office</td>\n",
              "      <td>Furniture</td>\n",
              "      <td>...</td>\n",
              "      <td>East</td>\n",
              "      <td>New Jersey</td>\n",
              "      <td>Roselle</td>\n",
              "      <td>7203</td>\n",
              "      <td>15/02/2015</td>\n",
              "      <td>17/02/2015</td>\n",
              "      <td>-53.8096</td>\n",
              "      <td>22</td>\n",
              "      <td>211.15</td>\n",
              "      <td>90192</td>\n",
              "    </tr>\n",
              "    <tr>\n",
              "      <th>3</th>\n",
              "      <td>24844</td>\n",
              "      <td>Medium</td>\n",
              "      <td>0.09</td>\n",
              "      <td>78.69</td>\n",
              "      <td>19.99</td>\n",
              "      <td>14</td>\n",
              "      <td>Gwendolyn F Tyson</td>\n",
              "      <td>Regular Air</td>\n",
              "      <td>Small Business</td>\n",
              "      <td>Furniture</td>\n",
              "      <td>...</td>\n",
              "      <td>Central</td>\n",
              "      <td>Minnesota</td>\n",
              "      <td>Prior Lake</td>\n",
              "      <td>55372</td>\n",
              "      <td>12/05/2015</td>\n",
              "      <td>14/05/2015</td>\n",
              "      <td>803.4705</td>\n",
              "      <td>16</td>\n",
              "      <td>1164.45</td>\n",
              "      <td>86838</td>\n",
              "    </tr>\n",
              "    <tr>\n",
              "      <th>4</th>\n",
              "      <td>24846</td>\n",
              "      <td>Medium</td>\n",
              "      <td>0.08</td>\n",
              "      <td>3.28</td>\n",
              "      <td>2.31</td>\n",
              "      <td>14</td>\n",
              "      <td>Gwendolyn F Tyson</td>\n",
              "      <td>Regular Air</td>\n",
              "      <td>Small Business</td>\n",
              "      <td>Office Supplies</td>\n",
              "      <td>...</td>\n",
              "      <td>Central</td>\n",
              "      <td>Minnesota</td>\n",
              "      <td>Prior Lake</td>\n",
              "      <td>55372</td>\n",
              "      <td>12/05/2015</td>\n",
              "      <td>13/05/2015</td>\n",
              "      <td>-24.0300</td>\n",
              "      <td>7</td>\n",
              "      <td>22.23</td>\n",
              "      <td>86838</td>\n",
              "    </tr>\n",
              "  </tbody>\n",
              "</table>\n",
              "<p>5 rows × 25 columns</p>\n",
              "</div>\n",
              "    <div class=\"colab-df-buttons\">\n",
              "\n",
              "  <div class=\"colab-df-container\">\n",
              "    <button class=\"colab-df-convert\" onclick=\"convertToInteractive('df-6104a47b-9e77-4836-bdf6-d4cd273c2317')\"\n",
              "            title=\"Convert this dataframe to an interactive table.\"\n",
              "            style=\"display:none;\">\n",
              "\n",
              "  <svg xmlns=\"http://www.w3.org/2000/svg\" height=\"24px\" viewBox=\"0 -960 960 960\">\n",
              "    <path d=\"M120-120v-720h720v720H120Zm60-500h600v-160H180v160Zm220 220h160v-160H400v160Zm0 220h160v-160H400v160ZM180-400h160v-160H180v160Zm440 0h160v-160H620v160ZM180-180h160v-160H180v160Zm440 0h160v-160H620v160Z\"/>\n",
              "  </svg>\n",
              "    </button>\n",
              "\n",
              "  <style>\n",
              "    .colab-df-container {\n",
              "      display:flex;\n",
              "      gap: 12px;\n",
              "    }\n",
              "\n",
              "    .colab-df-convert {\n",
              "      background-color: #E8F0FE;\n",
              "      border: none;\n",
              "      border-radius: 50%;\n",
              "      cursor: pointer;\n",
              "      display: none;\n",
              "      fill: #1967D2;\n",
              "      height: 32px;\n",
              "      padding: 0 0 0 0;\n",
              "      width: 32px;\n",
              "    }\n",
              "\n",
              "    .colab-df-convert:hover {\n",
              "      background-color: #E2EBFA;\n",
              "      box-shadow: 0px 1px 2px rgba(60, 64, 67, 0.3), 0px 1px 3px 1px rgba(60, 64, 67, 0.15);\n",
              "      fill: #174EA6;\n",
              "    }\n",
              "\n",
              "    .colab-df-buttons div {\n",
              "      margin-bottom: 4px;\n",
              "    }\n",
              "\n",
              "    [theme=dark] .colab-df-convert {\n",
              "      background-color: #3B4455;\n",
              "      fill: #D2E3FC;\n",
              "    }\n",
              "\n",
              "    [theme=dark] .colab-df-convert:hover {\n",
              "      background-color: #434B5C;\n",
              "      box-shadow: 0px 1px 3px 1px rgba(0, 0, 0, 0.15);\n",
              "      filter: drop-shadow(0px 1px 2px rgba(0, 0, 0, 0.3));\n",
              "      fill: #FFFFFF;\n",
              "    }\n",
              "  </style>\n",
              "\n",
              "    <script>\n",
              "      const buttonEl =\n",
              "        document.querySelector('#df-6104a47b-9e77-4836-bdf6-d4cd273c2317 button.colab-df-convert');\n",
              "      buttonEl.style.display =\n",
              "        google.colab.kernel.accessAllowed ? 'block' : 'none';\n",
              "\n",
              "      async function convertToInteractive(key) {\n",
              "        const element = document.querySelector('#df-6104a47b-9e77-4836-bdf6-d4cd273c2317');\n",
              "        const dataTable =\n",
              "          await google.colab.kernel.invokeFunction('convertToInteractive',\n",
              "                                                    [key], {});\n",
              "        if (!dataTable) return;\n",
              "\n",
              "        const docLinkHtml = 'Like what you see? Visit the ' +\n",
              "          '<a target=\"_blank\" href=https://colab.research.google.com/notebooks/data_table.ipynb>data table notebook</a>'\n",
              "          + ' to learn more about interactive tables.';\n",
              "        element.innerHTML = '';\n",
              "        dataTable['output_type'] = 'display_data';\n",
              "        await google.colab.output.renderOutput(dataTable, element);\n",
              "        const docLink = document.createElement('div');\n",
              "        docLink.innerHTML = docLinkHtml;\n",
              "        element.appendChild(docLink);\n",
              "      }\n",
              "    </script>\n",
              "  </div>\n",
              "\n",
              "\n",
              "<div id=\"df-b0ce1d1c-9629-4987-9f54-e67512159a4e\">\n",
              "  <button class=\"colab-df-quickchart\" onclick=\"quickchart('df-b0ce1d1c-9629-4987-9f54-e67512159a4e')\"\n",
              "            title=\"Suggest charts\"\n",
              "            style=\"display:none;\">\n",
              "\n",
              "<svg xmlns=\"http://www.w3.org/2000/svg\" height=\"24px\"viewBox=\"0 0 24 24\"\n",
              "     width=\"24px\">\n",
              "    <g>\n",
              "        <path d=\"M19 3H5c-1.1 0-2 .9-2 2v14c0 1.1.9 2 2 2h14c1.1 0 2-.9 2-2V5c0-1.1-.9-2-2-2zM9 17H7v-7h2v7zm4 0h-2V7h2v10zm4 0h-2v-4h2v4z\"/>\n",
              "    </g>\n",
              "</svg>\n",
              "  </button>\n",
              "\n",
              "<style>\n",
              "  .colab-df-quickchart {\n",
              "      --bg-color: #E8F0FE;\n",
              "      --fill-color: #1967D2;\n",
              "      --hover-bg-color: #E2EBFA;\n",
              "      --hover-fill-color: #174EA6;\n",
              "      --disabled-fill-color: #AAA;\n",
              "      --disabled-bg-color: #DDD;\n",
              "  }\n",
              "\n",
              "  [theme=dark] .colab-df-quickchart {\n",
              "      --bg-color: #3B4455;\n",
              "      --fill-color: #D2E3FC;\n",
              "      --hover-bg-color: #434B5C;\n",
              "      --hover-fill-color: #FFFFFF;\n",
              "      --disabled-bg-color: #3B4455;\n",
              "      --disabled-fill-color: #666;\n",
              "  }\n",
              "\n",
              "  .colab-df-quickchart {\n",
              "    background-color: var(--bg-color);\n",
              "    border: none;\n",
              "    border-radius: 50%;\n",
              "    cursor: pointer;\n",
              "    display: none;\n",
              "    fill: var(--fill-color);\n",
              "    height: 32px;\n",
              "    padding: 0;\n",
              "    width: 32px;\n",
              "  }\n",
              "\n",
              "  .colab-df-quickchart:hover {\n",
              "    background-color: var(--hover-bg-color);\n",
              "    box-shadow: 0 1px 2px rgba(60, 64, 67, 0.3), 0 1px 3px 1px rgba(60, 64, 67, 0.15);\n",
              "    fill: var(--button-hover-fill-color);\n",
              "  }\n",
              "\n",
              "  .colab-df-quickchart-complete:disabled,\n",
              "  .colab-df-quickchart-complete:disabled:hover {\n",
              "    background-color: var(--disabled-bg-color);\n",
              "    fill: var(--disabled-fill-color);\n",
              "    box-shadow: none;\n",
              "  }\n",
              "\n",
              "  .colab-df-spinner {\n",
              "    border: 2px solid var(--fill-color);\n",
              "    border-color: transparent;\n",
              "    border-bottom-color: var(--fill-color);\n",
              "    animation:\n",
              "      spin 1s steps(1) infinite;\n",
              "  }\n",
              "\n",
              "  @keyframes spin {\n",
              "    0% {\n",
              "      border-color: transparent;\n",
              "      border-bottom-color: var(--fill-color);\n",
              "      border-left-color: var(--fill-color);\n",
              "    }\n",
              "    20% {\n",
              "      border-color: transparent;\n",
              "      border-left-color: var(--fill-color);\n",
              "      border-top-color: var(--fill-color);\n",
              "    }\n",
              "    30% {\n",
              "      border-color: transparent;\n",
              "      border-left-color: var(--fill-color);\n",
              "      border-top-color: var(--fill-color);\n",
              "      border-right-color: var(--fill-color);\n",
              "    }\n",
              "    40% {\n",
              "      border-color: transparent;\n",
              "      border-right-color: var(--fill-color);\n",
              "      border-top-color: var(--fill-color);\n",
              "    }\n",
              "    60% {\n",
              "      border-color: transparent;\n",
              "      border-right-color: var(--fill-color);\n",
              "    }\n",
              "    80% {\n",
              "      border-color: transparent;\n",
              "      border-right-color: var(--fill-color);\n",
              "      border-bottom-color: var(--fill-color);\n",
              "    }\n",
              "    90% {\n",
              "      border-color: transparent;\n",
              "      border-bottom-color: var(--fill-color);\n",
              "    }\n",
              "  }\n",
              "</style>\n",
              "\n",
              "  <script>\n",
              "    async function quickchart(key) {\n",
              "      const quickchartButtonEl =\n",
              "        document.querySelector('#' + key + ' button');\n",
              "      quickchartButtonEl.disabled = true;  // To prevent multiple clicks.\n",
              "      quickchartButtonEl.classList.add('colab-df-spinner');\n",
              "      try {\n",
              "        const charts = await google.colab.kernel.invokeFunction(\n",
              "            'suggestCharts', [key], {});\n",
              "      } catch (error) {\n",
              "        console.error('Error during call to suggestCharts:', error);\n",
              "      }\n",
              "      quickchartButtonEl.classList.remove('colab-df-spinner');\n",
              "      quickchartButtonEl.classList.add('colab-df-quickchart-complete');\n",
              "    }\n",
              "    (() => {\n",
              "      let quickchartButtonEl =\n",
              "        document.querySelector('#df-b0ce1d1c-9629-4987-9f54-e67512159a4e button');\n",
              "      quickchartButtonEl.style.display =\n",
              "        google.colab.kernel.accessAllowed ? 'block' : 'none';\n",
              "    })();\n",
              "  </script>\n",
              "</div>\n",
              "\n",
              "    </div>\n",
              "  </div>\n"
            ],
            "application/vnd.google.colaboratory.intrinsic+json": {
              "type": "dataframe",
              "variable_name": "df"
            }
          },
          "metadata": {},
          "execution_count": 51
        }
      ]
    },
    {
      "cell_type": "code",
      "source": [
        "df['Order Month']=df['Order Date'].dt.month"
      ],
      "metadata": {
        "id": "h70shqL7RYX9"
      },
      "execution_count": 21,
      "outputs": []
    },
    {
      "cell_type": "markdown",
      "source": [
        "#Profit by Product Category"
      ],
      "metadata": {
        "id": "8GY0ovtJSKSf"
      }
    },
    {
      "cell_type": "code",
      "source": [
        "sns.barplot(x='Product Category',y='Profit',data=df,estimator=sum)\n",
        "plt.show()"
      ],
      "metadata": {
        "colab": {
          "base_uri": "https://localhost:8080/",
          "height": 449
        },
        "id": "h7QpSQ3TRk7V",
        "outputId": "7cc608e5-c7ec-41d4-f286-c8488e0f5fba"
      },
      "execution_count": 22,
      "outputs": [
        {
          "output_type": "display_data",
          "data": {
            "text/plain": [
              "<Figure size 640x480 with 1 Axes>"
            ],
            "image/png": "[encoded data removed]"
          },
          "metadata": {}
        }
      ]
    },
    {
      "cell_type": "code",
      "source": [],
      "metadata": {
        "id": "KV4RAspgRlZc"
      },
      "execution_count": null,
      "outputs": []
    },
    {
      "cell_type": "code",
      "source": [
        "df['State or Province'].value_counts()[:5]"
      ],
      "metadata": {
        "colab": {
          "base_uri": "https://localhost:8080/"
        },
        "id": "_X6R87GZTBWd",
        "outputId": "af27d3e4-689d-463e-af76-a216831951c4"
      },
      "execution_count": null,
      "outputs": [
        {
          "output_type": "execute_result",
          "data": {
            "text/plain": [
              "State or Province\n",
              "California    214\n",
              "New York      129\n",
              "Texas         124\n",
              "Florida       123\n",
              "Illinois       88\n",
              "Name: count, dtype: int64"
            ]
          },
          "metadata": {},
          "execution_count": 80
        }
      ]
    },
    {
      "cell_type": "code",
      "source": [
        "df['Order Month'].value_counts()"
      ],
      "metadata": {
        "colab": {
          "base_uri": "https://localhost:8080/"
        },
        "id": "gSj_UdNERtx-",
        "outputId": "3878ca39-7987-4c15-ce1c-996fd0653330"
      },
      "execution_count": 23,
      "outputs": [
        {
          "output_type": "execute_result",
          "data": {
            "text/plain": [
              "Order Month\n",
              "1    370\n",
              "3    328\n",
              "4    321\n",
              "2    314\n",
              "5    313\n",
              "6    306\n",
              "Name: count, dtype: int64"
            ]
          },
          "metadata": {},
          "execution_count": 23
        }
      ]
    },
    {
      "cell_type": "markdown",
      "source": [
        "#Count of Sales per Month"
      ],
      "metadata": {
        "id": "N_xT_gKHSATu"
      }
    },
    {
      "cell_type": "code",
      "source": [
        "sns.countplot(x='Order Month',data=df)\n",
        "plt.show()"
      ],
      "metadata": {
        "colab": {
          "base_uri": "https://localhost:8080/",
          "height": 449
        },
        "id": "Jy_3WFDVR1ZJ",
        "outputId": "8134adb5-44ee-48f5-eb21-d3020f0b7bd4"
      },
      "execution_count": 24,
      "outputs": [
        {
          "output_type": "display_data",
          "data": {
            "text/plain": [
              "<Figure size 640x480 with 1 Axes>"
            ],
            "image/png": "[encoded data removed]"
          },
          "metadata": {}
        }
      ]
    }
  ]
}